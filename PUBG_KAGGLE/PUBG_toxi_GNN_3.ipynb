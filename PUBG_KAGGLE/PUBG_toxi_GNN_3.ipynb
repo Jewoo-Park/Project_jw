{
  "nbformat": 4,
  "nbformat_minor": 0,
  "metadata": {
    "colab": {
      "provenance": [],
      "machine_shape": "hm",
      "gpuType": "T4"
    },
    "kernelspec": {
      "name": "python3",
      "display_name": "Python 3"
    },
    "language_info": {
      "name": "python"
    },
    "accelerator": "GPU"
  },
  "cells": [
    {
      "cell_type": "code",
      "execution_count": null,
      "metadata": {
        "colab": {
          "base_uri": "https://localhost:8080/"
        },
        "id": "cZ1OzqYxHq-y",
        "outputId": "7c27acb3-bc4e-429b-e421-64190ebb44b0"
      },
      "outputs": [
        {
          "output_type": "stream",
          "name": "stdout",
          "text": [
            "Mounted at /content/drive\n"
          ]
        }
      ],
      "source": [
        "from google.colab import drive\n",
        "drive.mount('/content/drive')"
      ]
    },
    {
      "cell_type": "code",
      "source": [
        "!pip install torch-scatter torch-sparse torch-cluster torch-spline-conv -f https://data.pyg.org/whl/torch-2.0.0+cu117.html\n",
        "!pip install torch-geometric"
      ],
      "metadata": {
        "collapsed": true,
        "colab": {
          "base_uri": "https://localhost:8080/"
        },
        "id": "ZVQcZSu4MZhE",
        "outputId": "386e0f2c-1547-4554-88c2-8dc1721b0205"
      },
      "execution_count": null,
      "outputs": [
        {
          "output_type": "stream",
          "name": "stdout",
          "text": [
            "Looking in links: https://data.pyg.org/whl/torch-2.0.0+cu117.html\n",
            "Collecting torch-scatter\n",
            "  Downloading https://data.pyg.org/whl/torch-2.0.0%2Bcu117/torch_scatter-2.1.2%2Bpt20cu117-cp311-cp311-linux_x86_64.whl (10.1 MB)\n",
            "\u001b[2K     \u001b[90m━━━━━━━━━━━━━━━━━━━━━━━━━━━━━━━━━━━━━━━━\u001b[0m \u001b[32m10.1/10.1 MB\u001b[0m \u001b[31m7.2 MB/s\u001b[0m eta \u001b[36m0:00:00\u001b[0m\n",
            "\u001b[?25hCollecting torch-sparse\n",
            "  Downloading https://data.pyg.org/whl/torch-2.0.0%2Bcu117/torch_sparse-0.6.18%2Bpt20cu117-cp311-cp311-linux_x86_64.whl (4.9 MB)\n",
            "\u001b[2K     \u001b[90m━━━━━━━━━━━━━━━━━━━━━━━━━━━━━━━━━━━━━━━━\u001b[0m \u001b[32m4.9/4.9 MB\u001b[0m \u001b[31m3.9 MB/s\u001b[0m eta \u001b[36m0:00:00\u001b[0m\n",
            "\u001b[?25hCollecting torch-cluster\n",
            "  Downloading https://data.pyg.org/whl/torch-2.0.0%2Bcu117/torch_cluster-1.6.3%2Bpt20cu117-cp311-cp311-linux_x86_64.whl (3.3 MB)\n",
            "\u001b[2K     \u001b[90m━━━━━━━━━━━━━━━━━━━━━━━━━━━━━━━━━━━━━━━━\u001b[0m \u001b[32m3.3/3.3 MB\u001b[0m \u001b[31m3.1 MB/s\u001b[0m eta \u001b[36m0:00:00\u001b[0m\n",
            "\u001b[?25hCollecting torch-spline-conv\n",
            "  Downloading https://data.pyg.org/whl/torch-2.0.0%2Bcu117/torch_spline_conv-1.2.2%2Bpt20cu117-cp311-cp311-linux_x86_64.whl (887 kB)\n",
            "\u001b[2K     \u001b[90m━━━━━━━━━━━━━━━━━━━━━━━━━━━━━━━━━━━━━━━━\u001b[0m \u001b[32m887.1/887.1 kB\u001b[0m \u001b[31m1.1 MB/s\u001b[0m eta \u001b[36m0:00:00\u001b[0m\n",
            "\u001b[?25hRequirement already satisfied: scipy in /usr/local/lib/python3.11/dist-packages (from torch-sparse) (1.14.1)\n",
            "Requirement already satisfied: numpy<2.3,>=1.23.5 in /usr/local/lib/python3.11/dist-packages (from scipy->torch-sparse) (2.0.2)\n",
            "Installing collected packages: torch-spline-conv, torch-scatter, torch-sparse, torch-cluster\n",
            "Successfully installed torch-cluster-1.6.3+pt20cu117 torch-scatter-2.1.2+pt20cu117 torch-sparse-0.6.18+pt20cu117 torch-spline-conv-1.2.2+pt20cu117\n",
            "Collecting torch-geometric\n",
            "  Downloading torch_geometric-2.6.1-py3-none-any.whl.metadata (63 kB)\n",
            "\u001b[2K     \u001b[90m━━━━━━━━━━━━━━━━━━━━━━━━━━━━━━━━━━━━━━━━\u001b[0m \u001b[32m63.1/63.1 kB\u001b[0m \u001b[31m3.5 MB/s\u001b[0m eta \u001b[36m0:00:00\u001b[0m\n",
            "\u001b[?25hRequirement already satisfied: aiohttp in /usr/local/lib/python3.11/dist-packages (from torch-geometric) (3.11.14)\n",
            "Requirement already satisfied: fsspec in /usr/local/lib/python3.11/dist-packages (from torch-geometric) (2025.3.0)\n",
            "Requirement already satisfied: jinja2 in /usr/local/lib/python3.11/dist-packages (from torch-geometric) (3.1.6)\n",
            "Requirement already satisfied: numpy in /usr/local/lib/python3.11/dist-packages (from torch-geometric) (2.0.2)\n",
            "Requirement already satisfied: psutil>=5.8.0 in /usr/local/lib/python3.11/dist-packages (from torch-geometric) (5.9.5)\n",
            "Requirement already satisfied: pyparsing in /usr/local/lib/python3.11/dist-packages (from torch-geometric) (3.2.1)\n",
            "Requirement already satisfied: requests in /usr/local/lib/python3.11/dist-packages (from torch-geometric) (2.32.3)\n",
            "Requirement already satisfied: tqdm in /usr/local/lib/python3.11/dist-packages (from torch-geometric) (4.67.1)\n",
            "Requirement already satisfied: aiohappyeyeballs>=2.3.0 in /usr/local/lib/python3.11/dist-packages (from aiohttp->torch-geometric) (2.6.1)\n",
            "Requirement already satisfied: aiosignal>=1.1.2 in /usr/local/lib/python3.11/dist-packages (from aiohttp->torch-geometric) (1.3.2)\n",
            "Requirement already satisfied: attrs>=17.3.0 in /usr/local/lib/python3.11/dist-packages (from aiohttp->torch-geometric) (25.3.0)\n",
            "Requirement already satisfied: frozenlist>=1.1.1 in /usr/local/lib/python3.11/dist-packages (from aiohttp->torch-geometric) (1.5.0)\n",
            "Requirement already satisfied: multidict<7.0,>=4.5 in /usr/local/lib/python3.11/dist-packages (from aiohttp->torch-geometric) (6.2.0)\n",
            "Requirement already satisfied: propcache>=0.2.0 in /usr/local/lib/python3.11/dist-packages (from aiohttp->torch-geometric) (0.3.0)\n",
            "Requirement already satisfied: yarl<2.0,>=1.17.0 in /usr/local/lib/python3.11/dist-packages (from aiohttp->torch-geometric) (1.18.3)\n",
            "Requirement already satisfied: MarkupSafe>=2.0 in /usr/local/lib/python3.11/dist-packages (from jinja2->torch-geometric) (3.0.2)\n",
            "Requirement already satisfied: charset-normalizer<4,>=2 in /usr/local/lib/python3.11/dist-packages (from requests->torch-geometric) (3.4.1)\n",
            "Requirement already satisfied: idna<4,>=2.5 in /usr/local/lib/python3.11/dist-packages (from requests->torch-geometric) (3.10)\n",
            "Requirement already satisfied: urllib3<3,>=1.21.1 in /usr/local/lib/python3.11/dist-packages (from requests->torch-geometric) (2.3.0)\n",
            "Requirement already satisfied: certifi>=2017.4.17 in /usr/local/lib/python3.11/dist-packages (from requests->torch-geometric) (2025.1.31)\n",
            "Downloading torch_geometric-2.6.1-py3-none-any.whl (1.1 MB)\n",
            "\u001b[2K   \u001b[90m━━━━━━━━━━━━━━━━━━━━━━━━━━━━━━━━━━━━━━━━\u001b[0m \u001b[32m1.1/1.1 MB\u001b[0m \u001b[31m40.5 MB/s\u001b[0m eta \u001b[36m0:00:00\u001b[0m\n",
            "\u001b[?25hInstalling collected packages: torch-geometric\n",
            "Successfully installed torch-geometric-2.6.1\n"
          ]
        }
      ]
    },
    {
      "cell_type": "markdown",
      "source": [
        "#데이터 로드 및 전처리"
      ],
      "metadata": {
        "id": "qoTCertDLfhP"
      }
    },
    {
      "cell_type": "code",
      "source": [
        "import pandas as pd\n",
        "df = pd.read_csv('/content/drive/MyDrive/Colab Notebooks/sampled_5000_matches.csv')"
      ],
      "metadata": {
        "id": "6R-_lNn2SyEY"
      },
      "execution_count": null,
      "outputs": []
    },
    {
      "cell_type": "code",
      "source": [
        "df.head()"
      ],
      "metadata": {
        "id": "6B31hbUIPttV",
        "outputId": "d5f1a417-b325-4149-fe0f-7fee8ac23629",
        "colab": {
          "base_uri": "https://localhost:8080/",
          "height": 313
        }
      },
      "execution_count": null,
      "outputs": [
        {
          "output_type": "execute_result",
          "data": {
            "text/plain": [
              "                       date  game_size  \\\n",
              "0  2018-01-03T23:23:03+0000         27   \n",
              "1  2018-01-03T23:23:03+0000         27   \n",
              "2  2018-01-03T23:23:03+0000         27   \n",
              "3  2018-01-03T23:23:03+0000         27   \n",
              "4  2018-01-03T23:23:03+0000         27   \n",
              "\n",
              "                                            match_id match_mode  party_size  \\\n",
              "0  2U4GBNA0YmlmN9OV04IhlvWAEi5_umKbgD3OYbUyA1eaSh...        tpp           4   \n",
              "1  2U4GBNA0YmlmN9OV04IhlvWAEi5_umKbgD3OYbUyA1eaSh...        tpp           4   \n",
              "2  2U4GBNA0YmlmN9OV04IhlvWAEi5_umKbgD3OYbUyA1eaSh...        tpp           4   \n",
              "3  2U4GBNA0YmlmN9OV04IhlvWAEi5_umKbgD3OYbUyA1eaSh...        tpp           4   \n",
              "4  2U4GBNA0YmlmN9OV04IhlvWAEi5_umKbgD3OYbUyA1eaSh...        tpp           4   \n",
              "\n",
              "   player_assists  player_dbno  player_dist_ride  player_dist_walk  \\\n",
              "0               0            0               0.0       2115.047610   \n",
              "1               0            0               0.0       2663.025630   \n",
              "2               0            1               0.0         75.278170   \n",
              "3               0            0               0.0         26.331602   \n",
              "4               0            1               0.0         77.084120   \n",
              "\n",
              "   player_dmg  player_kills player_name  player_survive_time  team_id  \\\n",
              "0          19             0  ssdaybreak             1084.986        1   \n",
              "1           0             0       Hung0             1185.968        1   \n",
              "2         138             1   Red_Acher              158.299        6   \n",
              "3           0             0   2pacTupac              130.263        6   \n",
              "4         175             1    qweaaaa2              157.039        6   \n",
              "\n",
              "   team_placement  \n",
              "0              12  \n",
              "1              12  \n",
              "2              26  \n",
              "3              26  \n",
              "4              26  "
            ],
            "text/html": [
              "\n",
              "  <div id=\"df-a6b2191c-c86e-4963-bf18-bab1521ba61a\" class=\"colab-df-container\">\n",
              "    <div>\n",
              "<style scoped>\n",
              "    .dataframe tbody tr th:only-of-type {\n",
              "        vertical-align: middle;\n",
              "    }\n",
              "\n",
              "    .dataframe tbody tr th {\n",
              "        vertical-align: top;\n",
              "    }\n",
              "\n",
              "    .dataframe thead th {\n",
              "        text-align: right;\n",
              "    }\n",
              "</style>\n",
              "<table border=\"1\" class=\"dataframe\">\n",
              "  <thead>\n",
              "    <tr style=\"text-align: right;\">\n",
              "      <th></th>\n",
              "      <th>date</th>\n",
              "      <th>game_size</th>\n",
              "      <th>match_id</th>\n",
              "      <th>match_mode</th>\n",
              "      <th>party_size</th>\n",
              "      <th>player_assists</th>\n",
              "      <th>player_dbno</th>\n",
              "      <th>player_dist_ride</th>\n",
              "      <th>player_dist_walk</th>\n",
              "      <th>player_dmg</th>\n",
              "      <th>player_kills</th>\n",
              "      <th>player_name</th>\n",
              "      <th>player_survive_time</th>\n",
              "      <th>team_id</th>\n",
              "      <th>team_placement</th>\n",
              "    </tr>\n",
              "  </thead>\n",
              "  <tbody>\n",
              "    <tr>\n",
              "      <th>0</th>\n",
              "      <td>2018-01-03T23:23:03+0000</td>\n",
              "      <td>27</td>\n",
              "      <td>2U4GBNA0YmlmN9OV04IhlvWAEi5_umKbgD3OYbUyA1eaSh...</td>\n",
              "      <td>tpp</td>\n",
              "      <td>4</td>\n",
              "      <td>0</td>\n",
              "      <td>0</td>\n",
              "      <td>0.0</td>\n",
              "      <td>2115.047610</td>\n",
              "      <td>19</td>\n",
              "      <td>0</td>\n",
              "      <td>ssdaybreak</td>\n",
              "      <td>1084.986</td>\n",
              "      <td>1</td>\n",
              "      <td>12</td>\n",
              "    </tr>\n",
              "    <tr>\n",
              "      <th>1</th>\n",
              "      <td>2018-01-03T23:23:03+0000</td>\n",
              "      <td>27</td>\n",
              "      <td>2U4GBNA0YmlmN9OV04IhlvWAEi5_umKbgD3OYbUyA1eaSh...</td>\n",
              "      <td>tpp</td>\n",
              "      <td>4</td>\n",
              "      <td>0</td>\n",
              "      <td>0</td>\n",
              "      <td>0.0</td>\n",
              "      <td>2663.025630</td>\n",
              "      <td>0</td>\n",
              "      <td>0</td>\n",
              "      <td>Hung0</td>\n",
              "      <td>1185.968</td>\n",
              "      <td>1</td>\n",
              "      <td>12</td>\n",
              "    </tr>\n",
              "    <tr>\n",
              "      <th>2</th>\n",
              "      <td>2018-01-03T23:23:03+0000</td>\n",
              "      <td>27</td>\n",
              "      <td>2U4GBNA0YmlmN9OV04IhlvWAEi5_umKbgD3OYbUyA1eaSh...</td>\n",
              "      <td>tpp</td>\n",
              "      <td>4</td>\n",
              "      <td>0</td>\n",
              "      <td>1</td>\n",
              "      <td>0.0</td>\n",
              "      <td>75.278170</td>\n",
              "      <td>138</td>\n",
              "      <td>1</td>\n",
              "      <td>Red_Acher</td>\n",
              "      <td>158.299</td>\n",
              "      <td>6</td>\n",
              "      <td>26</td>\n",
              "    </tr>\n",
              "    <tr>\n",
              "      <th>3</th>\n",
              "      <td>2018-01-03T23:23:03+0000</td>\n",
              "      <td>27</td>\n",
              "      <td>2U4GBNA0YmlmN9OV04IhlvWAEi5_umKbgD3OYbUyA1eaSh...</td>\n",
              "      <td>tpp</td>\n",
              "      <td>4</td>\n",
              "      <td>0</td>\n",
              "      <td>0</td>\n",
              "      <td>0.0</td>\n",
              "      <td>26.331602</td>\n",
              "      <td>0</td>\n",
              "      <td>0</td>\n",
              "      <td>2pacTupac</td>\n",
              "      <td>130.263</td>\n",
              "      <td>6</td>\n",
              "      <td>26</td>\n",
              "    </tr>\n",
              "    <tr>\n",
              "      <th>4</th>\n",
              "      <td>2018-01-03T23:23:03+0000</td>\n",
              "      <td>27</td>\n",
              "      <td>2U4GBNA0YmlmN9OV04IhlvWAEi5_umKbgD3OYbUyA1eaSh...</td>\n",
              "      <td>tpp</td>\n",
              "      <td>4</td>\n",
              "      <td>0</td>\n",
              "      <td>1</td>\n",
              "      <td>0.0</td>\n",
              "      <td>77.084120</td>\n",
              "      <td>175</td>\n",
              "      <td>1</td>\n",
              "      <td>qweaaaa2</td>\n",
              "      <td>157.039</td>\n",
              "      <td>6</td>\n",
              "      <td>26</td>\n",
              "    </tr>\n",
              "  </tbody>\n",
              "</table>\n",
              "</div>\n",
              "    <div class=\"colab-df-buttons\">\n",
              "\n",
              "  <div class=\"colab-df-container\">\n",
              "    <button class=\"colab-df-convert\" onclick=\"convertToInteractive('df-a6b2191c-c86e-4963-bf18-bab1521ba61a')\"\n",
              "            title=\"Convert this dataframe to an interactive table.\"\n",
              "            style=\"display:none;\">\n",
              "\n",
              "  <svg xmlns=\"http://www.w3.org/2000/svg\" height=\"24px\" viewBox=\"0 -960 960 960\">\n",
              "    <path d=\"M120-120v-720h720v720H120Zm60-500h600v-160H180v160Zm220 220h160v-160H400v160Zm0 220h160v-160H400v160ZM180-400h160v-160H180v160Zm440 0h160v-160H620v160ZM180-180h160v-160H180v160Zm440 0h160v-160H620v160Z\"/>\n",
              "  </svg>\n",
              "    </button>\n",
              "\n",
              "  <style>\n",
              "    .colab-df-container {\n",
              "      display:flex;\n",
              "      gap: 12px;\n",
              "    }\n",
              "\n",
              "    .colab-df-convert {\n",
              "      background-color: #E8F0FE;\n",
              "      border: none;\n",
              "      border-radius: 50%;\n",
              "      cursor: pointer;\n",
              "      display: none;\n",
              "      fill: #1967D2;\n",
              "      height: 32px;\n",
              "      padding: 0 0 0 0;\n",
              "      width: 32px;\n",
              "    }\n",
              "\n",
              "    .colab-df-convert:hover {\n",
              "      background-color: #E2EBFA;\n",
              "      box-shadow: 0px 1px 2px rgba(60, 64, 67, 0.3), 0px 1px 3px 1px rgba(60, 64, 67, 0.15);\n",
              "      fill: #174EA6;\n",
              "    }\n",
              "\n",
              "    .colab-df-buttons div {\n",
              "      margin-bottom: 4px;\n",
              "    }\n",
              "\n",
              "    [theme=dark] .colab-df-convert {\n",
              "      background-color: #3B4455;\n",
              "      fill: #D2E3FC;\n",
              "    }\n",
              "\n",
              "    [theme=dark] .colab-df-convert:hover {\n",
              "      background-color: #434B5C;\n",
              "      box-shadow: 0px 1px 3px 1px rgba(0, 0, 0, 0.15);\n",
              "      filter: drop-shadow(0px 1px 2px rgba(0, 0, 0, 0.3));\n",
              "      fill: #FFFFFF;\n",
              "    }\n",
              "  </style>\n",
              "\n",
              "    <script>\n",
              "      const buttonEl =\n",
              "        document.querySelector('#df-a6b2191c-c86e-4963-bf18-bab1521ba61a button.colab-df-convert');\n",
              "      buttonEl.style.display =\n",
              "        google.colab.kernel.accessAllowed ? 'block' : 'none';\n",
              "\n",
              "      async function convertToInteractive(key) {\n",
              "        const element = document.querySelector('#df-a6b2191c-c86e-4963-bf18-bab1521ba61a');\n",
              "        const dataTable =\n",
              "          await google.colab.kernel.invokeFunction('convertToInteractive',\n",
              "                                                    [key], {});\n",
              "        if (!dataTable) return;\n",
              "\n",
              "        const docLinkHtml = 'Like what you see? Visit the ' +\n",
              "          '<a target=\"_blank\" href=https://colab.research.google.com/notebooks/data_table.ipynb>data table notebook</a>'\n",
              "          + ' to learn more about interactive tables.';\n",
              "        element.innerHTML = '';\n",
              "        dataTable['output_type'] = 'display_data';\n",
              "        await google.colab.output.renderOutput(dataTable, element);\n",
              "        const docLink = document.createElement('div');\n",
              "        docLink.innerHTML = docLinkHtml;\n",
              "        element.appendChild(docLink);\n",
              "      }\n",
              "    </script>\n",
              "  </div>\n",
              "\n",
              "\n",
              "<div id=\"df-ee83035f-32d1-41f7-a801-e9c72d955a89\">\n",
              "  <button class=\"colab-df-quickchart\" onclick=\"quickchart('df-ee83035f-32d1-41f7-a801-e9c72d955a89')\"\n",
              "            title=\"Suggest charts\"\n",
              "            style=\"display:none;\">\n",
              "\n",
              "<svg xmlns=\"http://www.w3.org/2000/svg\" height=\"24px\"viewBox=\"0 0 24 24\"\n",
              "     width=\"24px\">\n",
              "    <g>\n",
              "        <path d=\"M19 3H5c-1.1 0-2 .9-2 2v14c0 1.1.9 2 2 2h14c1.1 0 2-.9 2-2V5c0-1.1-.9-2-2-2zM9 17H7v-7h2v7zm4 0h-2V7h2v10zm4 0h-2v-4h2v4z\"/>\n",
              "    </g>\n",
              "</svg>\n",
              "  </button>\n",
              "\n",
              "<style>\n",
              "  .colab-df-quickchart {\n",
              "      --bg-color: #E8F0FE;\n",
              "      --fill-color: #1967D2;\n",
              "      --hover-bg-color: #E2EBFA;\n",
              "      --hover-fill-color: #174EA6;\n",
              "      --disabled-fill-color: #AAA;\n",
              "      --disabled-bg-color: #DDD;\n",
              "  }\n",
              "\n",
              "  [theme=dark] .colab-df-quickchart {\n",
              "      --bg-color: #3B4455;\n",
              "      --fill-color: #D2E3FC;\n",
              "      --hover-bg-color: #434B5C;\n",
              "      --hover-fill-color: #FFFFFF;\n",
              "      --disabled-bg-color: #3B4455;\n",
              "      --disabled-fill-color: #666;\n",
              "  }\n",
              "\n",
              "  .colab-df-quickchart {\n",
              "    background-color: var(--bg-color);\n",
              "    border: none;\n",
              "    border-radius: 50%;\n",
              "    cursor: pointer;\n",
              "    display: none;\n",
              "    fill: var(--fill-color);\n",
              "    height: 32px;\n",
              "    padding: 0;\n",
              "    width: 32px;\n",
              "  }\n",
              "\n",
              "  .colab-df-quickchart:hover {\n",
              "    background-color: var(--hover-bg-color);\n",
              "    box-shadow: 0 1px 2px rgba(60, 64, 67, 0.3), 0 1px 3px 1px rgba(60, 64, 67, 0.15);\n",
              "    fill: var(--button-hover-fill-color);\n",
              "  }\n",
              "\n",
              "  .colab-df-quickchart-complete:disabled,\n",
              "  .colab-df-quickchart-complete:disabled:hover {\n",
              "    background-color: var(--disabled-bg-color);\n",
              "    fill: var(--disabled-fill-color);\n",
              "    box-shadow: none;\n",
              "  }\n",
              "\n",
              "  .colab-df-spinner {\n",
              "    border: 2px solid var(--fill-color);\n",
              "    border-color: transparent;\n",
              "    border-bottom-color: var(--fill-color);\n",
              "    animation:\n",
              "      spin 1s steps(1) infinite;\n",
              "  }\n",
              "\n",
              "  @keyframes spin {\n",
              "    0% {\n",
              "      border-color: transparent;\n",
              "      border-bottom-color: var(--fill-color);\n",
              "      border-left-color: var(--fill-color);\n",
              "    }\n",
              "    20% {\n",
              "      border-color: transparent;\n",
              "      border-left-color: var(--fill-color);\n",
              "      border-top-color: var(--fill-color);\n",
              "    }\n",
              "    30% {\n",
              "      border-color: transparent;\n",
              "      border-left-color: var(--fill-color);\n",
              "      border-top-color: var(--fill-color);\n",
              "      border-right-color: var(--fill-color);\n",
              "    }\n",
              "    40% {\n",
              "      border-color: transparent;\n",
              "      border-right-color: var(--fill-color);\n",
              "      border-top-color: var(--fill-color);\n",
              "    }\n",
              "    60% {\n",
              "      border-color: transparent;\n",
              "      border-right-color: var(--fill-color);\n",
              "    }\n",
              "    80% {\n",
              "      border-color: transparent;\n",
              "      border-right-color: var(--fill-color);\n",
              "      border-bottom-color: var(--fill-color);\n",
              "    }\n",
              "    90% {\n",
              "      border-color: transparent;\n",
              "      border-bottom-color: var(--fill-color);\n",
              "    }\n",
              "  }\n",
              "</style>\n",
              "\n",
              "  <script>\n",
              "    async function quickchart(key) {\n",
              "      const quickchartButtonEl =\n",
              "        document.querySelector('#' + key + ' button');\n",
              "      quickchartButtonEl.disabled = true;  // To prevent multiple clicks.\n",
              "      quickchartButtonEl.classList.add('colab-df-spinner');\n",
              "      try {\n",
              "        const charts = await google.colab.kernel.invokeFunction(\n",
              "            'suggestCharts', [key], {});\n",
              "      } catch (error) {\n",
              "        console.error('Error during call to suggestCharts:', error);\n",
              "      }\n",
              "      quickchartButtonEl.classList.remove('colab-df-spinner');\n",
              "      quickchartButtonEl.classList.add('colab-df-quickchart-complete');\n",
              "    }\n",
              "    (() => {\n",
              "      let quickchartButtonEl =\n",
              "        document.querySelector('#df-ee83035f-32d1-41f7-a801-e9c72d955a89 button');\n",
              "      quickchartButtonEl.style.display =\n",
              "        google.colab.kernel.accessAllowed ? 'block' : 'none';\n",
              "    })();\n",
              "  </script>\n",
              "</div>\n",
              "\n",
              "    </div>\n",
              "  </div>\n"
            ],
            "application/vnd.google.colaboratory.intrinsic+json": {
              "type": "dataframe",
              "variable_name": "df"
            }
          },
          "metadata": {},
          "execution_count": 3
        }
      ]
    },
    {
      "cell_type": "markdown",
      "source": [],
      "metadata": {
        "id": "t9xqJPcTMMpM"
      }
    },
    {
      "cell_type": "markdown",
      "source": [
        "#그래프 생성"
      ],
      "metadata": {
        "id": "hyHEPTZ0TfSo"
      }
    },
    {
      "cell_type": "code",
      "source": [
        "import pandas as pd\n",
        "import numpy as np\n",
        "import torch\n",
        "from torch_geometric.data import Data, DataLoader\n",
        "from tqdm import tqdm\n",
        "\n",
        "# df: 주어진 데이터프레임 (컬럼: match_id, team_id, player_dmg, player_kills, player_assists,\n",
        "# player_dist_walk, player_survive_time, player_dbno, player_dist_ride, player_name, ...)\n",
        "\n",
        "def build_team_graph(group):\n",
        "    \"\"\"\n",
        "    group: 한 팀에 속한 플레이어들의 DataFrame (같은 match_id, team_id)\n",
        "\n",
        "    노드 피처: ['player_dmg', 'player_kills', 'player_assists',\n",
        "                'player_dist_walk', 'player_survive_time', 'player_dbno', 'player_dist_ride']\n",
        "    플레이어 이름 리스트도 저장합니다.\n",
        "    \"\"\"\n",
        "    # 선택한 피처들 사용하여 노드 피처 행렬 생성\n",
        "    features = group[['player_dmg', 'player_kills', 'player_assists',\n",
        "                      'player_dist_walk', 'player_survive_time',\n",
        "                      'player_dbno', 'player_dist_ride']].values\n",
        "    x = torch.tensor(features, dtype=torch.float)\n",
        "\n",
        "    num_nodes = x.size(0)\n",
        "    edge_index = []\n",
        "    # 완전 그래프: 모든 노드 쌍(자기 자신 제외)에 대해 엣지 생성\n",
        "    for i in range(num_nodes):\n",
        "        for j in range(num_nodes):\n",
        "            if i != j:\n",
        "                edge_index.append([i, j])\n",
        "    if len(edge_index) > 0:\n",
        "        edge_index = torch.tensor(edge_index, dtype=torch.long).t().contiguous()\n",
        "    else:\n",
        "        edge_index = torch.empty((2, 0), dtype=torch.long)\n",
        "\n",
        "    # Data 객체 생성 (y는 라벨 없이 생성, 나중에 자가지도 학습이나 클러스터링 적용 예정)\n",
        "    data = Data(x=x, edge_index=edge_index)\n",
        "    # 메타 정보 저장: match_id, team_id, 그리고 팀원들의 player_name 리스트\n",
        "    data.match_id = group['match_id'].iloc[0]\n",
        "    data.team_id = group['team_id'].iloc[0]\n",
        "    data.player_names = group['player_name'].tolist()\n",
        "    return data\n",
        "\n",
        "# 각 팀별로 그룹화 (match_id, team_id 기준)\n",
        "grouped = df.groupby(['match_id', 'team_id'])\n",
        "\n",
        "# 모든 팀에 대해 그래프 생성 (팀 구성원이 2명 이상인 경우)\n",
        "team_graphs = []\n",
        "for (match_id, team_id), group in tqdm(grouped, total=len(grouped), desc=\"Building team graphs\"):\n",
        "    if len(group) >= 2:\n",
        "        graph = build_team_graph(group)\n",
        "        team_graphs.append(graph)\n",
        "\n",
        "# DataLoader 생성 (배치 학습용)\n",
        "loader = DataLoader(team_graphs, batch_size=32, shuffle=True)\n",
        "\n",
        "print(f\"Total team graphs: {len(team_graphs)}\")"
      ],
      "metadata": {
        "colab": {
          "base_uri": "https://localhost:8080/"
        },
        "id": "rzzGjrfALmYb",
        "outputId": "bc9a8a58-9919-4860-ea41-6575d82a0564"
      },
      "execution_count": null,
      "outputs": [
        {
          "output_type": "stream",
          "name": "stderr",
          "text": [
            "Building team graphs: 100%|██████████| 133333/133333 [01:29<00:00, 1492.78it/s]"
          ]
        },
        {
          "output_type": "stream",
          "name": "stdout",
          "text": [
            "Total team graphs: 127600\n"
          ]
        },
        {
          "output_type": "stream",
          "name": "stderr",
          "text": [
            "\n",
            "/usr/local/lib/python3.11/dist-packages/torch_geometric/deprecation.py:26: UserWarning: 'data.DataLoader' is deprecated, use 'loader.DataLoader' instead\n",
            "  warnings.warn(out)\n"
          ]
        }
      ]
    },
    {
      "cell_type": "markdown",
      "source": [
        "#GAE 모델 정의"
      ],
      "metadata": {
        "id": "D4EjCdgvT55N"
      }
    },
    {
      "cell_type": "code",
      "source": [
        "import torch\n",
        "import torch.nn as nn\n",
        "import torch.nn.functional as F\n",
        "from torch_geometric.nn import GCNConv\n",
        "from torch_geometric.nn.models import GAE\n",
        "from tqdm import tqdm\n",
        "\n",
        "# 1. GCN 기반 인코더 정의\n",
        "class GCNEncoder(nn.Module):\n",
        "    def __init__(self, in_channels, hidden_channels, out_channels, dropout=0.5):\n",
        "        super(GCNEncoder, self).__init__()\n",
        "        self.conv1 = GCNConv(in_channels, hidden_channels)\n",
        "        self.conv2 = GCNConv(hidden_channels, out_channels)\n",
        "        self.dropout = dropout\n",
        "\n",
        "    def forward(self, x, edge_index):\n",
        "        x = self.conv1(x, edge_index)\n",
        "        x = F.relu(x)\n",
        "        x = F.dropout(x, p=self.dropout, training=self.training)\n",
        "        x = self.conv2(x, edge_index)\n",
        "        return x\n",
        "\n",
        "# 2. 하이퍼파라미터 설정\n",
        "device = torch.device(\"cuda\" if torch.cuda.is_available() else \"cpu\")\n",
        "in_channels = 7  # 사용한 피처 수\n",
        "hidden_channels = 64\n",
        "embedding_dim = 32\n",
        "\n",
        "# 모델 초기화\n",
        "encoder = GCNEncoder(in_channels, hidden_channels, embedding_dim)\n",
        "model_gae = GAE(encoder).to(device)\n",
        "optimizer = torch.optim.Adam(model_gae.parameters(), lr=0.005)\n",
        "\n",
        "# 3. GAE 학습 함수\n",
        "def train_gae(loader, model, optimizer, device):\n",
        "    model.train()\n",
        "    total_loss = 0\n",
        "    pbar = tqdm(loader, desc=\"Training GAE\", leave=False)\n",
        "    for data in pbar:\n",
        "        data = data.to(device)\n",
        "        optimizer.zero_grad()\n",
        "        z = model.encode(data.x, data.edge_index)\n",
        "        loss = model.recon_loss(z, data.edge_index)\n",
        "        loss.backward()\n",
        "        optimizer.step()\n",
        "        total_loss += loss.item() * data.num_graphs\n",
        "        pbar.set_postfix(loss=f\"{loss.item():.4f}\")\n",
        "    return total_loss / len(loader.dataset)\n",
        "\n",
        "# 4. 학습 실행\n",
        "num_epochs = 30\n",
        "for epoch in range(1, num_epochs + 1):\n",
        "    loss = train_gae(loader, model_gae, optimizer, device)\n",
        "    print(f\"Epoch {epoch:02d} | Loss: {loss:.4f}\")"
      ],
      "metadata": {
        "colab": {
          "base_uri": "https://localhost:8080/"
        },
        "id": "Bljrlw3lT5tx",
        "outputId": "71bd479a-d19b-4b7b-ae67-e41dbfbae3b7"
      },
      "execution_count": null,
      "outputs": [
        {
          "output_type": "stream",
          "name": "stderr",
          "text": []
        },
        {
          "output_type": "stream",
          "name": "stdout",
          "text": [
            "Epoch 01 | Loss: 34.4906\n"
          ]
        },
        {
          "output_type": "stream",
          "name": "stderr",
          "text": []
        },
        {
          "output_type": "stream",
          "name": "stdout",
          "text": [
            "Epoch 02 | Loss: 34.4871\n"
          ]
        },
        {
          "output_type": "stream",
          "name": "stderr",
          "text": []
        },
        {
          "output_type": "stream",
          "name": "stdout",
          "text": [
            "Epoch 03 | Loss: 34.5137\n"
          ]
        },
        {
          "output_type": "stream",
          "name": "stderr",
          "text": []
        },
        {
          "output_type": "stream",
          "name": "stdout",
          "text": [
            "Epoch 04 | Loss: 34.5351\n"
          ]
        },
        {
          "output_type": "stream",
          "name": "stderr",
          "text": []
        },
        {
          "output_type": "stream",
          "name": "stdout",
          "text": [
            "Epoch 05 | Loss: 34.5354\n"
          ]
        },
        {
          "output_type": "stream",
          "name": "stderr",
          "text": []
        },
        {
          "output_type": "stream",
          "name": "stdout",
          "text": [
            "Epoch 06 | Loss: 34.5356\n"
          ]
        },
        {
          "output_type": "stream",
          "name": "stderr",
          "text": []
        },
        {
          "output_type": "stream",
          "name": "stdout",
          "text": [
            "Epoch 07 | Loss: 34.5337\n"
          ]
        },
        {
          "output_type": "stream",
          "name": "stderr",
          "text": []
        },
        {
          "output_type": "stream",
          "name": "stdout",
          "text": [
            "Epoch 08 | Loss: 34.4831\n"
          ]
        },
        {
          "output_type": "stream",
          "name": "stderr",
          "text": []
        },
        {
          "output_type": "stream",
          "name": "stdout",
          "text": [
            "Epoch 09 | Loss: 34.4616\n"
          ]
        },
        {
          "output_type": "stream",
          "name": "stderr",
          "text": []
        },
        {
          "output_type": "stream",
          "name": "stdout",
          "text": [
            "Epoch 10 | Loss: 34.4574\n"
          ]
        },
        {
          "output_type": "stream",
          "name": "stderr",
          "text": []
        },
        {
          "output_type": "stream",
          "name": "stdout",
          "text": [
            "Epoch 11 | Loss: 34.4593\n"
          ]
        },
        {
          "output_type": "stream",
          "name": "stderr",
          "text": []
        },
        {
          "output_type": "stream",
          "name": "stdout",
          "text": [
            "Epoch 12 | Loss: 34.4614\n"
          ]
        },
        {
          "output_type": "stream",
          "name": "stderr",
          "text": []
        },
        {
          "output_type": "stream",
          "name": "stdout",
          "text": [
            "Epoch 13 | Loss: 34.4612\n"
          ]
        },
        {
          "output_type": "stream",
          "name": "stderr",
          "text": []
        },
        {
          "output_type": "stream",
          "name": "stdout",
          "text": [
            "Epoch 14 | Loss: 34.4566\n"
          ]
        },
        {
          "output_type": "stream",
          "name": "stderr",
          "text": []
        },
        {
          "output_type": "stream",
          "name": "stdout",
          "text": [
            "Epoch 15 | Loss: 34.4550\n"
          ]
        },
        {
          "output_type": "stream",
          "name": "stderr",
          "text": []
        },
        {
          "output_type": "stream",
          "name": "stdout",
          "text": [
            "Epoch 16 | Loss: 34.4615\n"
          ]
        },
        {
          "output_type": "stream",
          "name": "stderr",
          "text": []
        },
        {
          "output_type": "stream",
          "name": "stdout",
          "text": [
            "Epoch 17 | Loss: 34.4628\n"
          ]
        },
        {
          "output_type": "stream",
          "name": "stderr",
          "text": []
        },
        {
          "output_type": "stream",
          "name": "stdout",
          "text": [
            "Epoch 18 | Loss: 34.4558\n"
          ]
        },
        {
          "output_type": "stream",
          "name": "stderr",
          "text": []
        },
        {
          "output_type": "stream",
          "name": "stdout",
          "text": [
            "Epoch 19 | Loss: 34.4619\n"
          ]
        },
        {
          "output_type": "stream",
          "name": "stderr",
          "text": []
        },
        {
          "output_type": "stream",
          "name": "stdout",
          "text": [
            "Epoch 20 | Loss: 34.4636\n"
          ]
        },
        {
          "output_type": "stream",
          "name": "stderr",
          "text": []
        },
        {
          "output_type": "stream",
          "name": "stdout",
          "text": [
            "Epoch 21 | Loss: 34.4598\n"
          ]
        },
        {
          "output_type": "stream",
          "name": "stderr",
          "text": []
        },
        {
          "output_type": "stream",
          "name": "stdout",
          "text": [
            "Epoch 22 | Loss: 34.4570\n"
          ]
        },
        {
          "output_type": "stream",
          "name": "stderr",
          "text": []
        },
        {
          "output_type": "stream",
          "name": "stdout",
          "text": [
            "Epoch 23 | Loss: 34.4577\n"
          ]
        },
        {
          "output_type": "stream",
          "name": "stderr",
          "text": []
        },
        {
          "output_type": "stream",
          "name": "stdout",
          "text": [
            "Epoch 24 | Loss: 20.9646\n"
          ]
        },
        {
          "output_type": "stream",
          "name": "stderr",
          "text": []
        },
        {
          "output_type": "stream",
          "name": "stdout",
          "text": [
            "Epoch 25 | Loss: 19.3623\n"
          ]
        },
        {
          "output_type": "stream",
          "name": "stderr",
          "text": []
        },
        {
          "output_type": "stream",
          "name": "stdout",
          "text": [
            "Epoch 26 | Loss: 19.3792\n"
          ]
        },
        {
          "output_type": "stream",
          "name": "stderr",
          "text": []
        },
        {
          "output_type": "stream",
          "name": "stdout",
          "text": [
            "Epoch 27 | Loss: 19.4001\n"
          ]
        },
        {
          "output_type": "stream",
          "name": "stderr",
          "text": []
        },
        {
          "output_type": "stream",
          "name": "stdout",
          "text": [
            "Epoch 28 | Loss: 33.2876\n"
          ]
        },
        {
          "output_type": "stream",
          "name": "stderr",
          "text": []
        },
        {
          "output_type": "stream",
          "name": "stdout",
          "text": [
            "Epoch 29 | Loss: 33.8323\n"
          ]
        },
        {
          "output_type": "stream",
          "name": "stderr",
          "text": [
            "                                                                                "
          ]
        },
        {
          "output_type": "stream",
          "name": "stdout",
          "text": [
            "Epoch 30 | Loss: 33.7573\n"
          ]
        },
        {
          "output_type": "stream",
          "name": "stderr",
          "text": [
            "\r"
          ]
        }
      ]
    },
    {
      "cell_type": "code",
      "source": [
        "import torch\n",
        "from torch_geometric.nn import global_mean_pool\n",
        "from tqdm import tqdm\n",
        "import pandas as pd\n",
        "\n",
        "model_gae.eval()  # 평가 모드로 전환\n",
        "\n",
        "all_node_anomalies = []  # 각 플레이어의 anomaly score 저장\n",
        "\n",
        "for data in tqdm(team_graphs, desc=\"Extracting node embeddings\"):\n",
        "    data = data.to(device)\n",
        "    z = model_gae.encoder(data.x, data.edge_index)  # 노드 임베딩 추출\n",
        "    team_mean = z.mean(dim=0, keepdim=True)  # 팀 평균 임베딩 계산\n",
        "    distances = torch.norm(z - team_mean, p=2, dim=1)  # 각 노드와 팀 평균 사이의 유클리드 거리\n",
        "    distances = distances.cpu().detach().numpy()\n",
        "\n",
        "    for i, name in enumerate(data.player_names):\n",
        "        all_node_anomalies.append({\n",
        "            'match_id': data.match_id,\n",
        "            'team_id': data.team_id,\n",
        "            'player_name': name,\n",
        "            'anomaly_score': distances[i]\n",
        "        })\n",
        "\n",
        "node_anomaly_df = pd.DataFrame(all_node_anomalies)\n",
        "print(node_anomaly_df.head())\n"
      ],
      "metadata": {
        "colab": {
          "base_uri": "https://localhost:8080/"
        },
        "id": "02lIjG6XckCj",
        "outputId": "2157f182-a5aa-439d-c47d-8170ba3e0d7d"
      },
      "execution_count": null,
      "outputs": [
        {
          "output_type": "stream",
          "name": "stderr",
          "text": [
            "Extracting node embeddings: 100%|██████████| 127600/127600 [03:25<00:00, 621.80it/s]\n"
          ]
        },
        {
          "output_type": "stream",
          "name": "stdout",
          "text": [
            "                                            match_id  team_id  player_name  \\\n",
            "0  2U4GBNA0Ymk-33gkSbXwzd9OkoC4wAW7jqjQHbM4wLSXbM...        2  cassiebelle   \n",
            "1  2U4GBNA0Ymk-33gkSbXwzd9OkoC4wAW7jqjQHbM4wLSXbM...        2   LAOWAI-CNM   \n",
            "2  2U4GBNA0Ymk-33gkSbXwzd9OkoC4wAW7jqjQHbM4wLSXbM...        2      NickHKS   \n",
            "3  2U4GBNA0Ymk-33gkSbXwzd9OkoC4wAW7jqjQHbM4wLSXbM...        2         YHwd   \n",
            "4  2U4GBNA0Ymk-33gkSbXwzd9OkoC4wAW7jqjQHbM4wLSXbM...        3       xgCola   \n",
            "\n",
            "   anomaly_score  \n",
            "0       0.000082  \n",
            "1       0.000035  \n",
            "2       0.000035  \n",
            "3       0.000034  \n",
            "4       0.000068  \n"
          ]
        }
      ]
    },
    {
      "cell_type": "code",
      "source": [
        "# Step 2에서 생성한 node_anomaly_df에는 각 플레이어의 match_id, team_id, player_name, anomaly_score가 들어 있습니다.\n",
        "# 예시:\n",
        "#    match_id       team_id    player_name  anomaly_score\n",
        "# 0  2U4GB...      4          ILovefantasy  0.5432\n",
        "# 1  2U4GB...      9          jenn1769       0.3210\n",
        "# ...\n",
        "\n",
        "# 1. 플레이어별 anomaly score 통계 계산 (여러 매치에서의 평균, 최대, 표준편차 등)\n",
        "player_anomaly_stats = node_anomaly_df.groupby('player_name')['anomaly_score'].agg(['mean', 'max', 'std']).reset_index()\n",
        "print(\"플레이어별 anomaly score 통계:\")\n",
        "print(player_anomaly_stats.head())\n",
        "\n",
        "# 2. 기준 설정: 예를 들어, 플레이어별 평균 anomaly score의 상위 10%를 이상치 후보로 선정\n",
        "threshold = player_anomaly_stats['mean'].quantile(0.99)\n",
        "print(f\"이상치 후보 선정 기준 (평균 anomaly score 상위 1%): {threshold:.4f}\")\n",
        "\n",
        "# 3. 후보 선별: 평균 anomaly score가 기준 이상인 플레이어\n",
        "candidates = player_anomaly_stats[player_anomaly_stats['mean'] >= threshold]\n",
        "print(\"급격히 실력이 저하되는 후보 플레이어 수:\", candidates.shape[0])\n",
        "print(candidates)\n",
        "\n",
        "# 추가: 후보 플레이어의 상세 anomaly score 분포를 시각화하거나, 다른 통계치를 함께 고려할 수 있습니다."
      ],
      "metadata": {
        "colab": {
          "base_uri": "https://localhost:8080/"
        },
        "id": "C6pZLCAOcO-u",
        "outputId": "7c01ac66-a602-42ae-9979-09eaa12cacd0"
      },
      "execution_count": null,
      "outputs": [
        {
          "output_type": "stream",
          "name": "stdout",
          "text": [
            "플레이어별 anomaly score 통계:\n",
            "      player_name      mean       max       std\n",
            "0     0---Wan---0  0.000245  0.000245       NaN\n",
            "1  0-0-0-0-0-0-0-  0.000086  0.000086       NaN\n",
            "2         0-0-0-7  0.000977  0.000977       NaN\n",
            "3       0-ALieZ-9  0.001177  0.001228  0.000073\n",
            "4       0-ASTAR-0  0.000065  0.000065       NaN\n",
            "이상치 후보 선정 기준 (평균 anomaly score 상위 10%): 0.0036\n",
            "급격히 실력이 저하되는 후보 플레이어 수: 3896\n",
            "         player_name      mean       max  std\n",
            "8       0-Exciting-0  0.005213  0.005213  NaN\n",
            "165             00GB  0.003845  0.003845  NaN\n",
            "242       0123456666  0.003735  0.003735  NaN\n",
            "456            0951_  0.005051  0.005051  NaN\n",
            "462             0980  0.004312  0.004312  NaN\n",
            "...              ...       ...       ...  ...\n",
            "388028      zxjinjin  0.005152  0.005152  NaN\n",
            "388198          zy55  0.003678  0.003678  NaN\n",
            "388304  zylihailihai  0.003891  0.003891  NaN\n",
            "388480        zz963z  0.003758  0.003758  NaN\n",
            "388741     zzxiaohai  0.005098  0.005098  NaN\n",
            "\n",
            "[3896 rows x 4 columns]\n"
          ]
        }
      ]
    }
  ]
}