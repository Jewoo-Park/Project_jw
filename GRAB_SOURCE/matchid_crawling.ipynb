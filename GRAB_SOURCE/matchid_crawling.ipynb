{
  "nbformat": 4,
  "nbformat_minor": 0,
  "metadata": {
    "colab": {
      "provenance": []
    },
    "kernelspec": {
      "name": "python3",
      "display_name": "Python 3"
    },
    "language_info": {
      "name": "python"
    }
  },
  "cells": [
    {
      "cell_type": "code",
      "execution_count": null,
      "metadata": {
        "id": "OXlKt5H9SGOh"
      },
      "outputs": [],
      "source": [
        "import requests\n",
        "import json\n",
        "import time\n",
        "import datetime\n",
        "import pandas as pd\n",
        "\n",
        "#토큰 수정해서 사용\n",
        "token='' # 자신이 생성한 Token을 여기에 입력\n",
        "platform='steam' # steam, kakao, console\n",
        "\n",
        "\n",
        "def make_day(previous_day):\n",
        "    # 1) Subtract ‘previous_day’ from the current datetime\n",
        "    date_obj = datetime.datetime.now() - datetime.timedelta(days=previous_day)\n",
        "\n",
        "    # 2) Fix the time portion to 23:59:59\n",
        "    date_obj = date_obj.replace(hour=23, minute=59, second=59, microsecond=0)\n",
        "\n",
        "\n",
        "    return date_obj.strftime(\"%Y-%m-%dT%H%%3A%M%%3A%SZ\")\n",
        "\n",
        "\n",
        "def call(day, platform):\n",
        "    headers = {'accept': 'application/vnd.api+json',\n",
        "               'Authorization': 'Bearer '+token,\n",
        "              }\n",
        "\n",
        "    response = requests.get('https://api.pubg.com/shards/'+platform+'/samples?filter[createdAt-start]='+day,\n",
        "                            headers=headers,)\n",
        "    return response.json()\n",
        "\n"
      ]
    },
    {
      "cell_type": "code",
      "source": [
        "#data=[]\n",
        "platform = \"steam\"\n",
        "for i in range(2,14): #원하는 날짜로 수정 해서 사용\n",
        "    print(make_day(i))\n",
        "    result=call(make_day(i),platform)\n",
        "    for value in result['data']['relationships']['matches']['data']:\n",
        "        data.append(value['id'])\n",
        "    print(str(i)+\"날 전 추출 완료\")\n",
        "    time.sleep(7)"
      ],
      "metadata": {
        "colab": {
          "base_uri": "https://localhost:8080/"
        },
        "id": "WSmMuXldSTr2",
        "outputId": "7c08aebb-b864-4a19-9973-8ce14e6d1a54"
      },
      "execution_count": null,
      "outputs": [
        {
          "output_type": "stream",
          "name": "stdout",
          "text": [
            "2025-05-19T23%3A59%3A59Z\n",
            "2날 전 추출 완료\n",
            "2025-05-18T23%3A59%3A59Z\n",
            "3날 전 추출 완료\n",
            "2025-05-17T23%3A59%3A59Z\n",
            "4날 전 추출 완료\n",
            "2025-05-16T23%3A59%3A59Z\n",
            "5날 전 추출 완료\n",
            "2025-05-15T23%3A59%3A59Z\n",
            "6날 전 추출 완료\n",
            "2025-05-14T23%3A59%3A59Z\n",
            "7날 전 추출 완료\n",
            "2025-05-13T23%3A59%3A59Z\n",
            "8날 전 추출 완료\n",
            "2025-05-12T23%3A59%3A59Z\n",
            "9날 전 추출 완료\n",
            "2025-05-11T23%3A59%3A59Z\n",
            "10날 전 추출 완료\n",
            "2025-05-10T23%3A59%3A59Z\n",
            "11날 전 추출 완료\n",
            "2025-05-09T23%3A59%3A59Z\n",
            "12날 전 추출 완료\n",
            "2025-05-08T23%3A59%3A59Z\n",
            "13날 전 추출 완료\n"
          ]
        }
      ]
    },
    {
      "cell_type": "code",
      "source": [
        "#잘 불러졌는지 확인하기\n",
        "print(len(data))\n",
        "print(data[:5])"
      ],
      "metadata": {
        "colab": {
          "base_uri": "https://localhost:8080/"
        },
        "id": "csVe2byNV1BM",
        "outputId": "59a3d244-9082-4f2a-8869-ca8bf1cdac25"
      },
      "execution_count": null,
      "outputs": [
        {
          "output_type": "stream",
          "name": "stdout",
          "text": [
            "9103\n",
            "['60fb8f1f-28cd-4249-bdc9-a454dfe675d3', '2c214acc-c7dd-459a-9a28-c8bfe08ea3d8', '3c209b47-935e-4af4-9ac6-fc0a54b03638', '5df88a91-a485-4ec9-9f43-007eb007fb02', '54f10329-c3ea-4b68-8b59-56d36b06319b']\n"
          ]
        }
      ]
    },
    {
      "cell_type": "code",
      "source": [
        "#매치 데이터 저장하기\n",
        "df = pd.DataFrame(data, columns=['match IDs'])\n",
        "\n",
        "#제목 날짜 수정\n",
        "df.to_csv('match_ids_0508-0519.csv', index=False)"
      ],
      "metadata": {
        "id": "gM6pO_E2VYzM"
      },
      "execution_count": null,
      "outputs": []
    }
  ]
}